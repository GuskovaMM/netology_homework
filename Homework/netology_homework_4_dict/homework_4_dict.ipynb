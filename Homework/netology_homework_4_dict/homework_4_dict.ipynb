{
 "cells": [
  {
   "cell_type": "markdown",
   "metadata": {},
   "source": [
    "### Задание 1\n",
    "Дана переменная, в которой хранится словарь, содержащий гео-метки для каждого пользователя (пример структуры данных приведен ниже). Вам необходимо написать программу, которая выведет на экран множество уникальных гео-меток всех пользователей.\n",
    "\n",
    "Пример работы программы:\n",
    "\n",
    "ids = {'user1': [213, 213, 213, 15, 213], 'user2': [54, 54, 119, 119, 119], 'user3': [213, 98, 98, 35]} Результат: {98, 35, 15, 213, 54, 119}"
   ]
  },
  {
   "cell_type": "code",
   "execution_count": 37,
   "metadata": {},
   "outputs": [
    {
     "data": {
      "text/plain": [
       "{15, 35, 54, 98, 119, 213}"
      ]
     },
     "execution_count": 37,
     "metadata": {},
     "output_type": "execute_result"
    }
   ],
   "source": [
    "ids = {\n",
    "    'user1': [213, 213, 213, 15, 213],\n",
    "    'user2': [54, 54, 119, 119, 119],\n",
    "    'user3': [213, 98, 98, 35]}\n",
    "\n",
    "# result = []\n",
    "# for i,value in enumerate(ids.values()):\n",
    "#     result += value\n",
    "#     i += 1\n",
    "# print(set(result))\n",
    "    \n",
    "set(sum(list(ids.values()),[]))\n"
   ]
  },
  {
   "cell_type": "markdown",
   "metadata": {},
   "source": [
    "### Задание 2\n",
    "Дана переменная, в которой хранится список поисковых запросов пользователя (пример структуры данных приведен ниже). Вам необходимо написать программу, которая выведет на экран распределение количества слов в запросах в требуемом виде.\n",
    "\n",
    "Пример работы программы:\n",
    "\n",
    "queries = [ 'смотреть сериалы онлайн', 'новости спорта', 'афиша кино', 'курс доллара', 'сериалы этим летом', 'курс по питону', 'сериалы про спорт', ] Результат:\n",
    "\n",
    "Поисковых запросов, содержащих 2 слов(а): 42.86% Поисковых запросов, содержащих 3 слов(а): 57.14%"
   ]
  },
  {
   "cell_type": "code",
   "execution_count": 1,
   "metadata": {},
   "outputs": [
    {
     "name": "stdout",
     "output_type": "stream",
     "text": [
      "Поисковых запросов, содержащих 2слов(а): 42.86%\n",
      "Поисковых запросов, содержащих 3слов(а): 57.14%\n"
     ]
    }
   ],
   "source": [
    "queries = [ \n",
    "    'афиша кино', \n",
    "    'новости спорта',  \n",
    "    'курс доллара', \n",
    "    'сериалы этим летом', \n",
    "    'курс по питону', \n",
    "    'сериалы про спорт', \n",
    "    'смотреть сериалы онлайн']\n",
    "\n",
    "query_dict = {}\n",
    "\n",
    "for query in queries:\n",
    "    word_cnt = len(query.split(' '))\n",
    "    if query_dict.get(word_cnt):\n",
    "        query_dict[word_cnt] += 1        \n",
    "    else :\n",
    "        query_dict[word_cnt] = 1\n",
    "# print(counts)\n",
    "for item in query_dict.items():\n",
    "    print(f'Поисковых запросов, содержащих {item[0]}слов(а): {item[1] / len(queries) * 100:.2f}%')"
   ]
  },
  {
   "cell_type": "markdown",
   "metadata": {},
   "source": [
    "### Задание 3\n",
    "Дана переменная, в которой хранится информация о затратах и доходе рекламных кампаний по различным источникам. Необходимо дополнить исходную структуру показателем ROI, который рассчитаем по формуле: (revenue / cost - 1) * 100\n",
    "\n",
    "Пример работы программы:\n",
    "\n",
    "results = { 'vk': {'revenue': 103, 'cost': 98}, 'yandex': {'revenue': 179, 'cost': 153}, 'facebook': {'revenue': 103, 'cost': 110}, 'adwords': {'revenue': 35, 'cost': 34}, 'twitter': {'revenue': 11, 'cost': 24}, } Результат:\n",
    "\n",
    "{'adwords': {'cost': 34, 'revenue': 35, 'ROI': 2.94}, 'facebook': {'cost': 110, 'revenue': 103, 'ROI': -6.36}, 'twitter': {'cost': 24, 'revenue': 11, 'ROI': -54.17}, 'vk': {'cost': 98, 'revenue': 103, 'ROI': 5.1}, 'yandex': {'cost': 153, 'revenue': 179, 'ROI': 16.99}}"
   ]
  },
  {
   "cell_type": "code",
   "execution_count": 36,
   "metadata": {},
   "outputs": [
    {
     "data": {
      "text/plain": [
       "{'vk': {'revenue': 103, 'cost': 98, 'ROI': 5.1},\n",
       " 'yandex': {'revenue': 179, 'cost': 153, 'ROI': 16.99},\n",
       " 'facebook': {'revenue': 103, 'cost': 110, 'ROI': -6.36},\n",
       " 'adwords': {'revenue': 35, 'cost': 34, 'ROI': 2.94},\n",
       " 'twitter': {'revenue': 11, 'cost': 24, 'ROI': -54.17}}"
      ]
     },
     "execution_count": 36,
     "metadata": {},
     "output_type": "execute_result"
    }
   ],
   "source": [
    "results = { \n",
    "    'vk': {'revenue': 103, 'cost': 98}, \n",
    "    'yandex': {'revenue': 179, 'cost': 153}, \n",
    "    'facebook': {'revenue': 103, 'cost': 110}, \n",
    "    'adwords': {'revenue': 35, 'cost': 34}, \n",
    "    'twitter': {'revenue': 11, 'cost': 24}, } \n",
    "\n",
    "for company, value in results.items():\n",
    "    value['ROI'] = round((((value['revenue']/value['cost'] -1)) * 100),2)\n",
    "    \n",
    "results\n"
   ]
  },
  {
   "cell_type": "markdown",
   "metadata": {},
   "source": [
    "### Задание 4\n",
    "Дана переменная, в которой хранится статистика рекламных каналов по объемам продаж (пример структуры данных приведен ниже). Напишите программу, которая возвращает название канала с максимальным объемом продаж.\n",
    "\n",
    "Пример работы программы:\n",
    "\n",
    "stats = {'facebook': 55, 'yandex': 115, 'vk': 120, 'google': 99, 'email': 42, 'ok': 98}\n",
    "\n",
    "Результат: Максимальный объем продаж на рекламном канале: vk"
   ]
  },
  {
   "cell_type": "code",
   "execution_count": 86,
   "metadata": {},
   "outputs": [
    {
     "name": "stdout",
     "output_type": "stream",
     "text": [
      "Максимальный объем продаж на рекламном канале: misha\n"
     ]
    }
   ],
   "source": [
    "stats = {'facebook': 55, 'yandex': 115, 'vk': 120, 'google': 99, 'email': 42, 'ok': 98, 'misha': 555}\n",
    "\n",
    "# max_value = max(stats.values())\n",
    "# for item in stats.items():\n",
    "#     if item[1] == max_value:\n",
    "#         print(item[0])\n",
    "\n",
    "a = [item[0] for item in stats.items() if item[1] == max(stats.values())]      \n",
    "print(f'Максимальный объем продаж на рекламном канале: {a[0]}')"
   ]
  },
  {
   "cell_type": "markdown",
   "metadata": {},
   "source": [
    "### Задание 5\n",
    "Дан список произвольной длины. Необходимо написать код, который на основе исходного списка составит словарь такого уровня вложенности, какова длина исхондого списка.\n",
    "\n",
    "Примеры работы программы:\n",
    "\n",
    "my_list = ['2018-01-01', 'yandex', 'cpc', 100] Результат: {'2018-01-01': {'yandex': {'cpc': 100}}}\n",
    "\n",
    "my_list = ['a', 'b', 'c', 'd', 'e', 'f'] Результат: {'a': {'b': {'c': {'d': {'e': 'f'}}}}}"
   ]
  },
  {
   "cell_type": "code",
   "execution_count": 89,
   "metadata": {},
   "outputs": [
    {
     "name": "stdout",
     "output_type": "stream",
     "text": [
      "{'2018-01-01': {'yandex': {'cpc': {100: {'mary': {90: 'mishel'}}}}}}\n"
     ]
    }
   ],
   "source": [
    "my_list = ['2018-01-01', 'yandex', 'cpc', 100,'mary',90,'mishel']\n",
    "\n",
    "if len(my_list) <2:\n",
    "    print('Выполнить программу невозможно')\n",
    "else:\n",
    "    i = len(my_list)-1\n",
    "    my_dict2 = {my_list[i-1]: my_list[i]}\n",
    "\n",
    "    while i >= 2:\n",
    "        my_dict2 = {my_list[i-2]: my_dict2}\n",
    "        i-=1\n",
    "    print(my_dict2)"
   ]
  },
  {
   "cell_type": "markdown",
   "metadata": {},
   "source": [
    "### Задание 6\n",
    "Дана книга рецептов с информацией о том, сколько ингредиентов нужно для приготовления блюда в расчете на одну порцию (пример данных представлен ниже). Напишите программу, которая будет запрашивать у пользователя количество порций для приготовления этих блюд и отображать информацию о суммарном количестве требуемых ингредиентов в указанном виде. Внимание! Одинаковые ингридиенты с разными размерностями нужно считать раздельно! Пример работы программы:\n",
    "\n",
    "cook_book = { 'салат': [ {'ingridient_name': 'сыр', 'quantity': 50, 'measure': 'гр'}, {'ingridient_name': 'томаты', 'quantity': 2, 'measure': 'шт'}, {'ingridient_name': 'огурцы', 'quantity': 20, 'measure': 'гр'}, {'ingridient_name': 'маслины', 'quantity': 10, 'measure': 'гр'}, {'ingridient_name': 'оливковое масло', 'quantity': 20, 'measure': 'мл'}, {'ingridient_name': 'салат', 'quantity': 10, 'measure': 'гр'}, {'ingridient_name': 'перец', 'quantity': 20, 'measure': 'гр'} ], 'пицца': [ {'ingridient_name': 'сыр', 'quantity': 20, 'measure': 'гр'}, {'ingridient_name': 'колбаса', 'quantity': 30, 'measure': 'гр'}, {'ingridient_name': 'бекон', 'quantity': 30, 'measure': 'гр'}, {'ingridient_name': 'оливки', 'quantity': 10, 'measure': 'гр'}, {'ingridient_name': 'томаты', 'quantity': 20, 'measure': 'гр'}, {'ingridient_name': 'тесто', 'quantity': 100, 'measure': 'гр'},\n",
    "], 'лимонад': [ {'ingridient_name': 'лимон', 'quantity': 1, 'measure': 'шт'}, {'ingridient_name': 'вода', 'quantity': 200, 'measure': 'мл'}, {'ingridient_name': 'сахар', 'quantity': 10, 'measure': 'гр'}, {'ingridient_name': 'лайм', 'quantity': 20, 'measure': 'гр'},\n",
    "] }\n",
    "\n",
    "Введите количество порций:\n",
    "3 Результат:\n",
    "\n",
    "Сыр: 210 гр\n",
    "Томаты: 6 шт\n",
    "Огурцы: 60 гр\n",
    "Маслины: 30 гр\n",
    "Оливковое масло: 60 мл\n",
    "Салат: 30 гр\n",
    "Перец: 60 гр\n",
    "Колбаса: 90 гр\n",
    "Бекон: 90 гр\n",
    "Оливки: 30 гр\n",
    "Томаты: 60 гр\n",
    "Тесто: 300 гр\n",
    "Лимон: 3 шт\n",
    "Вода: 600 мл\n",
    "Сахар: 30 гр\n",
    "Лайм: 60 гр"
   ]
  },
  {
   "cell_type": "code",
   "execution_count": 50,
   "metadata": {},
   "outputs": [
    {
     "name": "stdout",
     "output_type": "stream",
     "text": [
      "введите количество порций: 3\n",
      "Сыр: 210 гр. Томаты: 6 шт. Огурцы: 60 гр. Маслины: 30 гр. Оливковое масло: 60 мл. Салат: 30 гр. Перец: 60 гр. Колбаса: 90 гр. Бекон: 90 гр. Оливки: 30 гр. Томаты: 60 гр. Тесто: 300 гр. Лимон: 3 шт. Вода: 600 мл. Сахар: 30 гр. Лайм: 60 гр. "
     ]
    }
   ],
   "source": [
    "cook_book = { \n",
    "    'салат': [ {'ingridient_name': 'сыр', 'quantity': 50, 'measure': 'гр'},\n",
    "              {'ingridient_name': 'томаты', 'quantity': 2, 'measure': 'шт'},\n",
    "              {'ingridient_name': 'огурцы', 'quantity': 20, 'measure': 'гр'},\n",
    "              {'ingridient_name': 'маслины', 'quantity': 10, 'measure': 'гр'},\n",
    "              {'ingridient_name': 'оливковое масло', 'quantity': 20, 'measure': 'мл'},\n",
    "              {'ingridient_name': 'салат', 'quantity': 10, 'measure': 'гр'},\n",
    "              {'ingridient_name': 'перец', 'quantity': 20, 'measure': 'гр'} \n",
    "             ],\n",
    "    'пицца': [ {'ingridient_name': 'сыр', 'quantity': 20, 'measure': 'гр'},\n",
    "              {'ingridient_name': 'колбаса', 'quantity': 30, 'measure': 'гр'},\n",
    "              {'ingridient_name': 'бекон', 'quantity': 30, 'measure': 'гр'},\n",
    "              {'ingridient_name': 'оливки', 'quantity': 10, 'measure': 'гр'},\n",
    "              {'ingridient_name': 'томаты', 'quantity': 20, 'measure': 'гр'},\n",
    "              {'ingridient_name': 'тесто', 'quantity': 100, 'measure': 'гр'},\n",
    "             ], \n",
    "    'лимонад': [ {'ingridient_name': 'лимон', 'quantity': 1, 'measure': 'шт'}, \n",
    "                {'ingridient_name': 'вода', 'quantity': 200, 'measure': 'мл'},\n",
    "                {'ingridient_name': 'сахар', 'quantity': 10, 'measure': 'гр'}, \n",
    "                {'ingridient_name': 'лайм', 'quantity': 20, 'measure': 'гр'}, \n",
    "               ] }\n",
    "\n",
    "product_list=[]\n",
    "for cook_list in cook_book.values():\n",
    "    for ingredient in cook_list:\n",
    "        list_row = [product for product in product_list if\n",
    "                    (product['ingridient_name'] == ingredient['ingridient_name'] \n",
    "                     and product['measure'] == ingredient['measure'])]\n",
    "        if list_row:\n",
    "            list_row[0]['quantity'] += ingredient['quantity']\n",
    "        else:\n",
    "            product_list.append(ingredient)\n",
    "            \n",
    "cnt=int(input('введите количество порций: '))\n",
    "for item in product_list:\n",
    "    item['quantity'] *= cnt\n",
    "    print(f\"{item['ingridient_name'].capitalize()}: {item['quantity']} {item['measure']}. \",end ='')\n"
   ]
  }
 ],
 "metadata": {
  "kernelspec": {
   "display_name": "Python 3",
   "language": "python",
   "name": "python3"
  },
  "language_info": {
   "codemirror_mode": {
    "name": "ipython",
    "version": 3
   },
   "file_extension": ".py",
   "mimetype": "text/x-python",
   "name": "python",
   "nbconvert_exporter": "python",
   "pygments_lexer": "ipython3",
   "version": "3.8.5"
  }
 },
 "nbformat": 4,
 "nbformat_minor": 4
}
