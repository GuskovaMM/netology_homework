{
 "cells": [
  {
   "cell_type": "markdown",
   "metadata": {},
   "source": [
    "###  Задание 1 \n",
    "\n",
    "Печатные газеты использовали свой формат дат для каждого выпуска. Для каждой газеты из списка напишите формат указанной даты для перевода в объект datetime:\n",
    "The Moscow Times - Wednesday, October 2, 2002\n",
    "The Guardian - Friday, 11.10.13\n",
    "Daily News - Thursday, 18 August 1977"
   ]
  },
  {
   "cell_type": "code",
   "execution_count": 7,
   "metadata": {},
   "outputs": [
    {
     "data": {
      "text/plain": [
       "datetime.datetime(1977, 8, 18, 0, 0)"
      ]
     },
     "execution_count": 7,
     "metadata": {},
     "output_type": "execute_result"
    }
   ],
   "source": [
    "from datetime import datetime\n",
    "# datetime: \n",
    "# The Moscow Times - Wednesday, October 2, 2002 \n",
    " datetime.strptime('Wednesday, October 2, 2002', '%A, %B %d, %Y')\n",
    "# The Guardian - Friday, 11.10.13 \n",
    " datetime.strptime('Friday, 11.10.13', '%A, %d.%m.%y')\n",
    "# Daily News - Thursday, 18 August 1977\n",
    "datetime.strptime('Thursday, 18 August 1977', '%A, %d %B %Y')"
   ]
  },
  {
   "cell_type": "markdown",
   "metadata": {},
   "source": [
    "### Задание 2\n",
    "Дан поток дат в формате YYYY-MM-DD, в которых встречаются некорректные значения:\n",
    "stream = [‘2018-04-02’, ‘2018-02-29’, ‘2018-19-02’]\n",
    "Напишите функцию, которая проверяет эти даты на корректность. Т. е. для каждой даты возвращает True (дата корректна) или False (некорректная дата)."
   ]
  },
  {
   "cell_type": "code",
   "execution_count": 5,
   "metadata": {},
   "outputs": [
    {
     "name": "stdout",
     "output_type": "stream",
     "text": [
      "True\n",
      "False\n",
      "False\n"
     ]
    }
   ],
   "source": [
    "from datetime import datetime as dt\n",
    "\n",
    "stream = ['2018-04-02', '2018-02-29', '2018-19-02'] \n",
    "\n",
    "def check_date(date):\n",
    "    try:\n",
    "        dt.strptime(date,'%Y-%m-%d')\n",
    "        return True\n",
    "    except:\n",
    "        return False\n",
    "        \n",
    "for date in stream:\n",
    "    print(check_date(date))"
   ]
  },
  {
   "cell_type": "markdown",
   "metadata": {},
   "source": [
    "### Задание 3\n",
    "Напишите функцию date_range, которая возвращает список дат за период от start_date до end_date. Даты должны вводиться в формате YYYY-MM-DD. В случае неверного формата или при start_date > end_date должен возвращаться пустой список."
   ]
  },
  {
   "cell_type": "code",
   "execution_count": 16,
   "metadata": {},
   "outputs": [
    {
     "name": "stdout",
     "output_type": "stream",
     "text": [
      "Введите начальную дату в формате YYYY-MM-DD 2020-10-10\n",
      "Введите конечную дату в формате YYYY-MM-DD 2020-10-20\n"
     ]
    },
    {
     "data": {
      "text/plain": [
       "['2020-10-10',\n",
       " '2020-10-11',\n",
       " '2020-10-12',\n",
       " '2020-10-13',\n",
       " '2020-10-14',\n",
       " '2020-10-15',\n",
       " '2020-10-16',\n",
       " '2020-10-17',\n",
       " '2020-10-18',\n",
       " '2020-10-19',\n",
       " '2020-10-20']"
      ]
     },
     "execution_count": 16,
     "metadata": {},
     "output_type": "execute_result"
    }
   ],
   "source": [
    "from datetime import datetime\n",
    "from datetime import timedelta\n",
    "\n",
    "def check_date(date):\n",
    "    try:\n",
    "        return datetime.strptime(date,'%Y-%m-%d')\n",
    "    except:\n",
    "        return False\n",
    "        \n",
    "start_date = input('Введите начальную дату в формате YYYY-MM-DD ')\n",
    "end_date = input('Введите конечную дату в формате YYYY-MM-DD ') \n",
    "\n",
    "def date_range(start_date, end_date):\n",
    "    \n",
    "    rangelist = []\n",
    "\n",
    "    dt_from = check_date(start_date)\n",
    "    dt_to = check_date(end_date)\n",
    "    \n",
    "    if (dt_from and dt_to) and dt_from < dt_to:\n",
    "        while dt_from <= dt_to:\n",
    "            rangelist.append(dt_from.strftime('%Y-%m-%d'))\n",
    "            dt_from += timedelta(days=1)\n",
    "    return rangelist\n",
    "\n",
    "date_range(start_date,end_date)"
   ]
  },
  {
   "cell_type": "markdown",
   "metadata": {},
   "source": [
    "### Задание 4 (бонусное)\n",
    "Ваш коллега прислал код функции:\n",
    "\n",
    "DEFAULT_USER_COUNT = 3\n",
    "\n",
    "def delete_and_return_last_user(region, default_list=[‘A100’, ‘A101’, ‘A102’]):\n",
    "\"\"“\n",
    "Удаляет из списка default_list последнего пользователя\n",
    "и возвращает ID нового последнего пользователя.\n",
    "”\"\"\n",
    "element_to_delete = default_list[-1]\n",
    "default_list.remove(element_to_delete)\n",
    "\n",
    "1\n",
    "return default_list[DEFAULT_USER_COUNT-2]\n",
    "При однократном вызове этой функции все работает корректно:\n",
    "delete_and_return_last_user(1)\n",
    "‘A101’\n",
    "\n",
    "Однако, при повторном вызове получается ошибка IndexError: list index out of range.\n",
    "\n",
    "Задание:\n",
    "\n",
    "Что значит ошибка list index out of range?\n",
    "Почему при первом запуске функция работает корректно, а при втором - нет?"
   ]
  },
  {
   "cell_type": "code",
   "execution_count": 40,
   "metadata": {},
   "outputs": [
    {
     "name": "stdout",
     "output_type": "stream",
     "text": [
      "5\n",
      "3\n"
     ]
    }
   ],
   "source": [
    "DEFAULT_USER_COUNT = 3\n",
    "\n",
    "def test(a = ['tetst']):\n",
    "    a.append('ggg')\n",
    "    return a\n",
    "\n",
    "def delete_and_return_last_user(region, default_list=['A100', 'A101', 'A102']): \n",
    "    element_to_delete = default_list[-1] \n",
    "    default_list.remove(element_to_delete)\n",
    "    return default_list[DEFAULT_USER_COUNT-2]\n",
    "\n",
    "\n",
    "#delete_and_return_last_user(1)\n",
    "#delete_and_return_last_user(1)\n",
    "\n",
    "## разница в выделении памяти для объектов и простых значений. default_list указывает на один и тот же объект при каждом вызове.\n",
    "## функция при первом прохождении меняет объект и на втором мы получаем ошибку, \n",
    "## потому что элементов хранится меньше, чем мы запрашиваем\n",
    "## Элемента с индексом [1] не существует на втором проходе в списке.\n",
    "## list index out of range - означает, что индекс не входит в диапазон элементов"
   ]
  },
  {
   "cell_type": "code",
   "execution_count": null,
   "metadata": {},
   "outputs": [],
   "source": []
  }
 ],
 "metadata": {
  "kernelspec": {
   "display_name": "Python 3",
   "language": "python",
   "name": "python3"
  },
  "language_info": {
   "codemirror_mode": {
    "name": "ipython",
    "version": 3
   },
   "file_extension": ".py",
   "mimetype": "text/x-python",
   "name": "python",
   "nbconvert_exporter": "python",
   "pygments_lexer": "ipython3",
   "version": "3.8.5"
  }
 },
 "nbformat": 4,
 "nbformat_minor": 4
}
