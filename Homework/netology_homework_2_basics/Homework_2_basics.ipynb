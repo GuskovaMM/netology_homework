{
 "cells": [
  {
   "cell_type": "markdown",
   "metadata": {},
   "source": [
    "Задача 1. Даны 2 переменных, в которых хранятся строки произвольной длины: *phrase_1* и *phrase_2*.  \n",
    "Напишите код, который проверяет какая из этих строк длиннее."
   ]
  },
  {
   "cell_type": "code",
   "execution_count": 9,
   "metadata": {},
   "outputs": [
    {
     "name": "stdout",
     "output_type": "stream",
     "text": [
      "Фразы равной длины\n"
     ]
    }
   ],
   "source": [
    "phrase_1 = 'Насколько проще было бы писать программы, если бы не заказчики'\n",
    "phrase_2 = 'Насколько проще было бы писать программы, если бы не заказчики'\n",
    "\n",
    "if len(phrase_1)>len(phrase_2):\n",
    "    print('Фраза 1 длиннее фразы 2')\n",
    "elif len(phrase_1)<len(phrase_2):\n",
    "    print('Фраза 2 длиннее фразы 1')\n",
    "else:\n",
    "    print('Фразы равной длины')"
   ]
  },
  {
   "cell_type": "markdown",
   "metadata": {},
   "source": [
    "Задача 2. Дана переменная, в которой хранится четырехзначное число (год). Необходимо написать программу, которая выведет, является ли данный год високосным или обычным."
   ]
  },
  {
   "cell_type": "code",
   "execution_count": 15,
   "metadata": {},
   "outputs": [
    {
     "name": "stdout",
     "output_type": "stream",
     "text": [
      "2020\n",
      "Высокосный год\n"
     ]
    }
   ],
   "source": [
    "year = int(input())\n",
    "if ((year % 4 == 0 and year % 100 != 0) or (year % 400 == 0)):\n",
    "    print('Высокосный год')\n",
    "else:\n",
    "    print('Обычный год')"
   ]
  },
  {
   "cell_type": "markdown",
   "metadata": {},
   "source": [
    "Задача 3. Необходимо написать программу, которая будет запрашивать у пользователя месяц и дату рождения и выводить соответствующий знак зодиака.\n"
   ]
  },
  {
   "cell_type": "code",
   "execution_count": 38,
   "metadata": {},
   "outputs": [
    {
     "name": "stdout",
     "output_type": "stream",
     "text": [
      "Введите день своего рождения10\n",
      "Введите месяц своего рождения текстомОктября\n",
      "Весы\n"
     ]
    }
   ],
   "source": [
    "day = int(input('Введите день своего рождения '))\n",
    "month_txt = str(input('Введите месяц своего рождения текстом ').lower())\n",
    "\n",
    "import datetime\n",
    "\n",
    "if month_txt == 'январь' or month_txt == 'января' :\n",
    "    month = int(1)\n",
    "elif month_txt == 'февраль' or month_txt == 'февраля':\n",
    "    month = int(2)\n",
    "elif month_txt == 'март' or month_txt == 'марта':\n",
    "    month = int(3)\n",
    "elif month_txt == 'апрель' or month_txt == 'апреля':\n",
    "    month = int(4)\n",
    "elif month_txt == 'май' or month_txt == 'мая':\n",
    "    month = int(5)\n",
    "elif month_txt == 'июнь' or month_txt == 'июня':\n",
    "    month = int(6)\n",
    "elif month_txt == 'июль' or month_txt == 'июля':\n",
    "    month = int(7)\n",
    "elif month_txt == 'август' or month_txt == 'августа':\n",
    "    month = int(8)\n",
    "elif month_txt == 'сентябрь' or month_txt == 'сентября':\n",
    "    month = int(9)\n",
    "elif month_txt == 'октябрь' or month_txt == 'октября':\n",
    "    month = int(10)\n",
    "elif month_txt == 'ноябрь' or month_txt == 'ноября':\n",
    "    month = int(11)\n",
    "elif month_txt == 'декабрь' or month_txt == 'декабря':\n",
    "    month = int(12)\n",
    "else:\n",
    "    month = int(0)\n",
    "# print(month)    \n",
    "\n",
    "if datetime.date(1990,1,20)<=datetime.date(1990,month,day)<=datetime.date(1990,2,19):\n",
    "    print('Водолей')\n",
    "elif datetime.date(1990,2,20)<=datetime.date(1990,month,day)<=datetime.date(1990,3,20):\n",
    "    print('Рыбы')\n",
    "elif datetime.date(1990,3,21)<=datetime.date(1990,month,day)<=datetime.date(1990,4,19):\n",
    "    print('Овен')\n",
    "elif datetime.date(1990,4,20)<=datetime.date(1990,month,day)<=datetime.date(1990,5,20):\n",
    "    print('Телец')\n",
    "elif datetime.date(1990,5,21)<=datetime.date(1990,month,day)<=datetime.date(1990,6,20):\n",
    "    print('Близнецы')\n",
    "elif datetime.date(1990,6,21)<=datetime.date(1990,month,day)<=datetime.date(1990,7,20):\n",
    "    print('Рак')\n",
    "elif datetime.date(1990,7,21)<=datetime.date(1990,month,day)<=datetime.date(1990,8,22):\n",
    "    print('Лев')\n",
    "elif datetime.date(1990,8,23)<=datetime.date(1990,month,day)<=datetime.date(1990,9,22):\n",
    "    print('Дева')\n",
    "elif datetime.date(1990,9,23)<=datetime.date(1990,month,day)<=datetime.date(1990,10,23):\n",
    "    print('Весы')\n",
    "elif datetime.date(1990,10,24)<=datetime.date(1990,month,day)<=datetime.date(1990,11,22):\n",
    "    print('Скорпион')\n",
    "elif datetime.date(1990,11,23)<=datetime.date(1990,month,day)<=datetime.date(1990,12,21):\n",
    "    print('Стрелец')\n",
    "elif datetime.date(1990,12,22)<=datetime.date(1990,month,day)<=datetime.date(1990,1,19):\n",
    "    print('Козерог')\n",
    "else:\n",
    "    print('Данные введены неверно')"
   ]
  },
  {
   "cell_type": "markdown",
   "metadata": {},
   "source": [
    "Задание 4. Вам нужно написать программу для подбора упаковок по размерам товара. Размеры (ширина, длина, высота) хранятся в переменных (в сантиметрах):\n",
    "\n",
    "Используйте следующие правила:\n",
    "\n",
    "* если каждое из трех измерений менее 15 сантиметров, то выведите на экран \"Коробка №1\";\n",
    "* если хотя бы одно из измерений больше 15 сантиметров, но менее 50 сантиметров, то выводите \"Коробка №2\";\n",
    "* если длина товара больше 2 метров, то выводите \"Упаковка для лыж\";\n",
    "* во всех остальных случаях выводите \"Стандартная коробка №3\".\n",
    "\n",
    "Пример работы программы:\n",
    "\n",
    "width = 15\n",
    "length = 50\n",
    "height = 15\n",
    "Результат:\n",
    "Стандартная коробка №3"
   ]
  },
  {
   "cell_type": "code",
   "execution_count": null,
   "metadata": {},
   "outputs": [],
   "source": [
    "width = int(input('Введите шириину в см. '))\n",
    "length = int(input('Введите длину в см. '))\n",
    "height = int(input('Введите высоту в см. '))\n",
    "\n",
    "if (width <= 15 and length <= 15 and height <= 15):\n",
    "    print('Коробка №1')\n",
    "elif height>200:\n",
    "    print('Упаковка для лыж')     \n",
    "elif (width > 15 or length > 15 or height > 15) and (width < 50 and length < 50 and height < 50) :\n",
    "    print('Коробка №2')\n",
    "else:\n",
    "    print('Стандартная коробка №3')"
   ]
  },
  {
   "cell_type": "markdown",
   "metadata": {},
   "source": [
    "Задание 5. Дана переменная, в которой хранится шестизначное число (номер проездного билета). Напишите программу, которая будет определять, является ли данный билет \"счастливым\". Билет считается счастливым, если сумма первых трех цифр совпадает с суммой последних трех цифр номера.\n",
    "\n",
    "Примеры работы программы:\n",
    "\n",
    "number = 123456\n",
    "Результат:\n",
    "Неасчастливый билет 2. number = 123321\n",
    "\n",
    "Результат:\n",
    "Счастливый билет"
   ]
  },
  {
   "cell_type": "code",
   "execution_count": 6,
   "metadata": {},
   "outputs": [
    {
     "name": "stdout",
     "output_type": "stream",
     "text": [
      "Введите номер билета. 6 цифр123321\n",
      "Вам выпал счастливый билет\n"
     ]
    }
   ],
   "source": [
    "ticket = int(input('Введите номер билета. 6 цифр: '))\n",
    "\n",
    "t1 = ticket//100000\n",
    "t2 = ticket//10000 - (t1*10)\n",
    "t3 = ticket//1000 - (ticket//10000*10)\n",
    "t4 = ticket//100 - (ticket//1000*10)\n",
    "t5 = ticket//10 - (ticket//100*10)\n",
    "t6 = ticket//1 - (ticket//10*10)\n",
    "\n",
    "# print(t1)\n",
    "# print(t2)\n",
    "# print(t3)\n",
    "# print(t4)\n",
    "# print(t5)\n",
    "# print(t6)\n",
    "\n",
    "if (t1 + t2 + t3) == (t4 + t5 + t6):\n",
    "    print('Вам выпал счастливый билет')\n",
    "else:\n",
    "    print('У вас обычный билет')"
   ]
  },
  {
   "cell_type": "markdown",
   "metadata": {},
   "source": [
    "Задание 6.Напишите программу, которая сможет вычислять площади трех фигур (круг, треугольник и прямоугольник). Тип фигуры запрашиваем через пользовательский ввод, после чего делаем запрос характеристик фигуры:\n",
    "\n",
    "если пользователь выбрал круг, запрашиваем его радиус,\n",
    "если треугольник – длины трех его сторон;\n",
    "если прямоугольник – длины двух его сторон."
   ]
  },
  {
   "cell_type": "code",
   "execution_count": 34,
   "metadata": {},
   "outputs": [
    {
     "name": "stdout",
     "output_type": "stream",
     "text": [
      "Введите название фигурыпрямоугольник\n",
      "Введите значение 1 стороны прямоугольника 3\n",
      "Введите значение 2 стороны прямоугольника 5\n",
      "Площадь прямоугольника составляет: 15.00\n"
     ]
    }
   ],
   "source": [
    "figure = str(input('Введите название фигуры ').lower())\n",
    "\n",
    "if (figure != 'круг' and figure != 'треугольник' and figure != 'прямоугольник'):\n",
    "    print('Я не могу вычислить площадь данной фигуры')\n",
    "elif figure == 'круг':\n",
    "    R = float(input('Введите радиус круга '))\n",
    "    pi = float(3.1415926535)\n",
    "    S1 = (R**2)*pi\n",
    "    print('Площадь круга составляет: {0}'.format('{:.2f}'.format(S1)))\n",
    "elif figure == 'треугольник':\n",
    "    a1 = float(input('Введите значение 1 стороны треугольника '))\n",
    "    a2 = float(input('Введите значение 2 стороны треугольника '))\n",
    "    a3 = float(input('Введите значение 3 стороны треугольника '))\n",
    "    p = (a1+a2+a3)/2\n",
    "    S2 = (p*(p-a1)*(p-a2)*(p-a3))**0.5\n",
    "    print('Площадь треугольника составляет: {0}'.format('{:.2f}'.format(S2)))\n",
    "elif figure == 'прямоугольник':\n",
    "    b1 = float(input('Введите значение 1 стороны прямоугольника '))\n",
    "    b2 = float(input('Введите значение 2 стороны прямоугольника '))\n",
    "    S3 = b1*b2\n",
    "    print('Площадь прямоугольника составляет: {0}'.format('{:.2f}'.format(S3)))\n",
    "else:\n",
    "    print('Неизвестная ошибка. Проверьте вводимые значения')\n",
    "\n"
   ]
  },
  {
   "cell_type": "code",
   "execution_count": null,
   "metadata": {},
   "outputs": [],
   "source": []
  }
 ],
 "metadata": {
  "kernelspec": {
   "display_name": "Python 3",
   "language": "python",
   "name": "python3"
  },
  "language_info": {
   "codemirror_mode": {
    "name": "ipython",
    "version": 3
   },
   "file_extension": ".py",
   "mimetype": "text/x-python",
   "name": "python",
   "nbconvert_exporter": "python",
   "pygments_lexer": "ipython3",
   "version": "3.8.5"
  }
 },
 "nbformat": 4,
 "nbformat_minor": 4
}
