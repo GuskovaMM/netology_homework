{
 "cells": [
  {
   "cell_type": "code",
   "execution_count": 60,
   "metadata": {},
   "outputs": [],
   "source": [
    "### 1.Задание\n",
    "import json\n",
    "\n",
    "f = open('C:/Users/alius/OneDrive/Desktop/python/Homework/file_for_HW/purchase_log.txt', 'r',encoding='utf-8')\n",
    "content = f.readlines()\n",
    "purchases = {}\n",
    "for i, line in enumerate(content):\n",
    "    if i>0:\n",
    "        jsonline = json.loads(line)\n",
    "        purchases[jsonline['user_id']] = jsonline['category']\n",
    "# purchases\n",
    "\n",
    "### 2.Задание\n",
    "\n",
    "with open('C:/Users/alius/OneDrive/Desktop/python/Homework/file_for_HW/visit_log.csv', 'r',encoding='utf-8') as visit:\n",
    "    with open('C:/Users/alius/OneDrive/Desktop/python/Homework/file_for_HW/funnel.csv', 'w',encoding='utf-8') as result:\n",
    "        for i, line in enumerate(visit):\n",
    "            if i>0:\n",
    "                pureline = line.strip().split(',')\n",
    "                if pureline[0] in purchases.keys():\n",
    "                    pureline.append(purchases[pureline[0]])\n",
    "                    result.write(f\"{','.join(pureline)}\\n\")\n",
    "        \n",
    "result.close()"
   ]
  },
  {
   "cell_type": "code",
   "execution_count": null,
   "metadata": {},
   "outputs": [],
   "source": []
  }
 ],
 "metadata": {
  "kernelspec": {
   "display_name": "Python 3",
   "language": "python",
   "name": "python3"
  },
  "language_info": {
   "codemirror_mode": {
    "name": "ipython",
    "version": 3
   },
   "file_extension": ".py",
   "mimetype": "text/x-python",
   "name": "python",
   "nbconvert_exporter": "python",
   "pygments_lexer": "ipython3",
   "version": "3.8.5"
  }
 },
 "nbformat": 4,
 "nbformat_minor": 4
}
